{
 "cells": [
  {
   "cell_type": "code",
   "execution_count": 19,
   "metadata": {},
   "outputs": [],
   "source": [
    "import numpy as np\n",
    "import pandas as pd\n",
    "import matplotlib.pyplot as plt\n",
    "from sqlalchemy import create_engine\n",
    "from scipy import stats\n",
    "import statsmodels.api as sm \n",
    "from sklearn.model_selection import train_test_split\n",
    "from statsmodels.tools.eval_measures import mse, rmse\n",
    "from sklearn.metrics import mean_absolute_error\n",
    "%matplotlib inline"
   ]
  },
  {
   "cell_type": "markdown",
   "metadata": {},
   "source": [
    "# Evaluating the House prices regression model"
   ]
  },
  {
   "cell_type": "code",
   "execution_count": 2,
   "metadata": {},
   "outputs": [],
   "source": [
    "postgres_user = 'dsbc_student'\n",
    "postgres_pw = '7*.8G9QH21'\n",
    "postgres_host = '142.93.121.174'\n",
    "postgres_port = '5432'\n",
    "postgres_db = 'houseprices'\n",
    "\n",
    "engine = create_engine('postgresql://{}:{}@{}:{}/{}'.format(\n",
    "    postgres_user, postgres_pw, postgres_host, postgres_port, postgres_db))\n",
    "prices_df = pd.read_sql_query('select * from houseprices',con=engine)\n",
    "\n",
    "engine.dispose()"
   ]
  },
  {
   "cell_type": "code",
   "execution_count": 3,
   "metadata": {},
   "outputs": [],
   "source": [
    "#Create series of continuous variable names, check that all continuous variables are numerical\n",
    "\n",
    "cont_vars = pd.Series(['saleprice', 'yrsold', 'miscval', 'poolarea','screenporch', 'threessnporch', 'enclosedporch',\n",
    "                             'wooddecksf', 'openporchsf','garagearea', 'garageyrblt', 'grlivarea', 'lowqualfinsf', 'firstflrsf', \n",
    "                             'secondflrsf','totalbsmtsf', 'bsmtunfsf', 'bsmtfinsf1', 'bsmtfinsf2', 'masvnrarea', \n",
    "                             'yearbuilt', 'yearremodadd','lotarea', 'lotfrontage'])\n",
    "\n",
    "#Create series of the categorical variable names\n",
    "\n",
    "cat_vars = []\n",
    "\n",
    "for var in prices_df.columns:\n",
    "    if cont_vars.str.contains(var).any() == False:\n",
    "        cat_vars.append(var)\n",
    "\n",
    "cat_vars = pd.Series(cat_vars)\n",
    "\n",
    "#Check that no variables are in both variable lists\n",
    "\n",
    "for var in prices_df.columns:\n",
    "    if cont_vars.str.contains(var).any() & cat_vars.str.contains(var).any():\n",
    "        print(var)"
   ]
  },
  {
   "cell_type": "code",
   "execution_count": 4,
   "metadata": {},
   "outputs": [],
   "source": [
    "#Convert categorical variables to numerically coded categories\n",
    "\n",
    "coded_df = prices_df.copy()\n",
    "coded_df.sort_values(by='saleprice')\n",
    "codebook = {}\n",
    "\n",
    "for var in cat_vars:\n",
    "    if  coded_df[var].dtype == 'O':\n",
    "        \n",
    "        #Create replace dict for each variable\n",
    "        labels = coded_df[var].unique()\n",
    "        replace_dict = {k: v for k,v in zip(labels,range(len(labels)))}\n",
    "        \n",
    "        #Add var entry to codebook and replace in dataframe\n",
    "        codebook.update({var: replace_dict})\n",
    "        coded_df.loc[:,var] = coded_df[var].replace(replace_dict) "
   ]
  },
  {
   "cell_type": "code",
   "execution_count": 5,
   "metadata": {},
   "outputs": [],
   "source": [
    "#Boxcox transform our dependent variable, add to list of cont_vars \n",
    "\n",
    "coded_df['boxcox_saleprice'] = stats.boxcox(coded_df['saleprice'])[0]\n",
    "cont_vars = list(cont_vars)\n",
    "cont_vars.insert(0,'boxcox_saleprice')"
   ]
  },
  {
   "cell_type": "code",
   "execution_count": 6,
   "metadata": {},
   "outputs": [],
   "source": [
    "#Sort variables by their relevance in the model\n",
    "\n",
    "#Loop through cat_vars and conduct One-Way Anova across the groups in each cat_var for boxcox_saleprice\n",
    "\n",
    "import statsmodels.api as sm\n",
    "from statsmodels.formula.api import ols\n",
    "F = []\n",
    "p = []\n",
    "\n",
    "for var in cat_vars:\n",
    "    mod_str = 'boxcox_saleprice ~ ' + var\n",
    "    mod = ols(mod_str, data=coded_df).fit()\n",
    "    aov_table= sm.stats.anova_lm(mod, typ=2)\n",
    "    F.append(aov_table['F'][0])\n",
    "    p.append(aov_table['PR(>F)'][0])\n",
    "    \n",
    "#Save results of anova in df with variable names\n",
    "\n",
    "aov_res = pd.DataFrame(cat_vars, columns=['var'])\n",
    "aov_res['F'] = F\n",
    "aov_res['p-value'] = p \n",
    "aov_res.sort_values(by='F', ascending=False, inplace=True)\n",
    "\n",
    "#Create correlation matrix, sort by saleprice\n",
    "cont_corrs = coded_df[cont_vars].corr()\n",
    "cont_corrs.sort_values(by='boxcox_saleprice',axis=0, ascending=False, inplace=True)"
   ]
  },
  {
   "cell_type": "code",
   "execution_count": 15,
   "metadata": {},
   "outputs": [],
   "source": [
    "#Create series of top 10 categorical variables\n",
    "features = aov_res['var'][:10]\n",
    "\n",
    "#Append series of continuous variables with greater than 0.5 correlation and remove saleprice vars and secondflrsf\n",
    "cont_features = list(cont_corrs.loc[cont_corrs['boxcox_saleprice']>0.5, 'boxcox_saleprice'].index)\n",
    "for var in ['boxcox_saleprice', 'saleprice']: cont_features.remove(var) \n",
    "    \n",
    "features = features.append(pd.Series(cont_features), ignore_index=True)"
   ]
  },
  {
   "cell_type": "code",
   "execution_count": 16,
   "metadata": {},
   "outputs": [],
   "source": [
    "coded_df.loc[:,features] = coded_df.loc[:,features].fillna(0)"
   ]
  },
  {
   "cell_type": "code",
   "execution_count": 17,
   "metadata": {},
   "outputs": [],
   "source": [
    "#Remove insignificant features\n",
    "features = list(features)\n",
    "for var in ['fullbath', 'fireplacequ', 'exterqual', 'garagearea']: features.remove(var)\n",
    "\n",
    "#Sort data into dependent and independent variables\n",
    "Y = coded_df['boxcox_saleprice']\n",
    "X = coded_df[features]\n",
    "\n",
    "#Split the data into train/test sets\n",
    "X_train, X_test, Y_train, Y_test = train_test_split(X,Y,test_size = 0.2, random_state = 1)"
   ]
  },
  {
   "cell_type": "code",
   "execution_count": 18,
   "metadata": {},
   "outputs": [
    {
     "data": {
      "text/html": [
       "<table class=\"simpletable\">\n",
       "<caption>OLS Regression Results</caption>\n",
       "<tr>\n",
       "  <th>Dep. Variable:</th>    <td>boxcox_saleprice</td> <th>  R-squared:         </th> <td>   0.825</td>\n",
       "</tr>\n",
       "<tr>\n",
       "  <th>Model:</th>                   <td>OLS</td>       <th>  Adj. R-squared:    </th> <td>   0.823</td>\n",
       "</tr>\n",
       "<tr>\n",
       "  <th>Method:</th>             <td>Least Squares</td>  <th>  F-statistic:       </th> <td>   417.3</td>\n",
       "</tr>\n",
       "<tr>\n",
       "  <th>Date:</th>             <td>Fri, 16 Aug 2019</td> <th>  Prob (F-statistic):</th>  <td>  0.00</td> \n",
       "</tr>\n",
       "<tr>\n",
       "  <th>Time:</th>                 <td>11:29:05</td>     <th>  Log-Likelihood:    </th> <td>  1519.6</td>\n",
       "</tr>\n",
       "<tr>\n",
       "  <th>No. Observations:</th>      <td>  1168</td>      <th>  AIC:               </th> <td>  -3011.</td>\n",
       "</tr>\n",
       "<tr>\n",
       "  <th>Df Residuals:</th>          <td>  1154</td>      <th>  BIC:               </th> <td>  -2940.</td>\n",
       "</tr>\n",
       "<tr>\n",
       "  <th>Df Model:</th>              <td>    13</td>      <th>                     </th>     <td> </td>   \n",
       "</tr>\n",
       "<tr>\n",
       "  <th>Covariance Type:</th>      <td>nonrobust</td>    <th>                     </th>     <td> </td>   \n",
       "</tr>\n",
       "</table>\n",
       "<table class=\"simpletable\">\n",
       "<tr>\n",
       "        <td></td>          <th>coef</th>     <th>std err</th>      <th>t</th>      <th>P>|t|</th>  <th>[0.025</th>    <th>0.975]</th>  \n",
       "</tr>\n",
       "<tr>\n",
       "  <th>const</th>        <td>    4.5940</td> <td>    0.295</td> <td>   15.557</td> <td> 0.000</td> <td>    4.015</td> <td>    5.173</td>\n",
       "</tr>\n",
       "<tr>\n",
       "  <th>overallqual</th>  <td>    0.0322</td> <td>    0.002</td> <td>   13.433</td> <td> 0.000</td> <td>    0.028</td> <td>    0.037</td>\n",
       "</tr>\n",
       "<tr>\n",
       "  <th>garagecars</th>   <td>    0.0253</td> <td>    0.004</td> <td>    5.807</td> <td> 0.000</td> <td>    0.017</td> <td>    0.034</td>\n",
       "</tr>\n",
       "<tr>\n",
       "  <th>totrmsabvgrd</th> <td>    0.0061</td> <td>    0.002</td> <td>    2.773</td> <td> 0.006</td> <td>    0.002</td> <td>    0.010</td>\n",
       "</tr>\n",
       "<tr>\n",
       "  <th>fireplaces</th>   <td>    0.0296</td> <td>    0.004</td> <td>    8.362</td> <td> 0.000</td> <td>    0.023</td> <td>    0.037</td>\n",
       "</tr>\n",
       "<tr>\n",
       "  <th>foundation</th>   <td>   -0.0082</td> <td>    0.003</td> <td>   -2.444</td> <td> 0.015</td> <td>   -0.015</td> <td>   -0.002</td>\n",
       "</tr>\n",
       "<tr>\n",
       "  <th>heatingqc</th>    <td>   -0.0094</td> <td>    0.003</td> <td>   -3.751</td> <td> 0.000</td> <td>   -0.014</td> <td>   -0.004</td>\n",
       "</tr>\n",
       "<tr>\n",
       "  <th>bsmtfintype1</th> <td>   -0.0031</td> <td>    0.001</td> <td>   -2.284</td> <td> 0.023</td> <td>   -0.006</td> <td>   -0.000</td>\n",
       "</tr>\n",
       "<tr>\n",
       "  <th>grlivarea</th>    <td> 5.991e-05</td> <td> 8.22e-06</td> <td>    7.291</td> <td> 0.000</td> <td> 4.38e-05</td> <td>  7.6e-05</td>\n",
       "</tr>\n",
       "<tr>\n",
       "  <th>totalbsmtsf</th>  <td> 2.191e-05</td> <td> 8.74e-06</td> <td>    2.506</td> <td> 0.012</td> <td> 4.76e-06</td> <td> 3.91e-05</td>\n",
       "</tr>\n",
       "<tr>\n",
       "  <th>firstflrsf</th>   <td> 2.916e-05</td> <td>    1e-05</td> <td>    2.911</td> <td> 0.004</td> <td> 9.51e-06</td> <td> 4.88e-05</td>\n",
       "</tr>\n",
       "<tr>\n",
       "  <th>yearbuilt</th>    <td>    0.0006</td> <td>    0.000</td> <td>    5.557</td> <td> 0.000</td> <td>    0.000</td> <td>    0.001</td>\n",
       "</tr>\n",
       "<tr>\n",
       "  <th>yearremodadd</th> <td>    0.0008</td> <td>    0.000</td> <td>    6.096</td> <td> 0.000</td> <td>    0.001</td> <td>    0.001</td>\n",
       "</tr>\n",
       "<tr>\n",
       "  <th>garageyrblt</th>  <td>  1.83e-05</td> <td> 5.55e-06</td> <td>    3.298</td> <td> 0.001</td> <td> 7.41e-06</td> <td> 2.92e-05</td>\n",
       "</tr>\n",
       "</table>\n",
       "<table class=\"simpletable\">\n",
       "<tr>\n",
       "  <th>Omnibus:</th>       <td>724.423</td> <th>  Durbin-Watson:     </th> <td>   2.120</td> \n",
       "</tr>\n",
       "<tr>\n",
       "  <th>Prob(Omnibus):</th> <td> 0.000</td>  <th>  Jarque-Bera (JB):  </th> <td>21954.215</td>\n",
       "</tr>\n",
       "<tr>\n",
       "  <th>Skew:</th>          <td>-2.343</td>  <th>  Prob(JB):          </th> <td>    0.00</td> \n",
       "</tr>\n",
       "<tr>\n",
       "  <th>Kurtosis:</th>      <td>23.716</td>  <th>  Cond. No.          </th> <td>6.15e+05</td> \n",
       "</tr>\n",
       "</table><br/><br/>Warnings:<br/>[1] Standard Errors assume that the covariance matrix of the errors is correctly specified.<br/>[2] The condition number is large, 6.15e+05. This might indicate that there are<br/>strong multicollinearity or other numerical problems."
      ],
      "text/plain": [
       "<class 'statsmodels.iolib.summary.Summary'>\n",
       "\"\"\"\n",
       "                            OLS Regression Results                            \n",
       "==============================================================================\n",
       "Dep. Variable:       boxcox_saleprice   R-squared:                       0.825\n",
       "Model:                            OLS   Adj. R-squared:                  0.823\n",
       "Method:                 Least Squares   F-statistic:                     417.3\n",
       "Date:                Fri, 16 Aug 2019   Prob (F-statistic):               0.00\n",
       "Time:                        11:29:05   Log-Likelihood:                 1519.6\n",
       "No. Observations:                1168   AIC:                            -3011.\n",
       "Df Residuals:                    1154   BIC:                            -2940.\n",
       "Df Model:                          13                                         \n",
       "Covariance Type:            nonrobust                                         \n",
       "================================================================================\n",
       "                   coef    std err          t      P>|t|      [0.025      0.975]\n",
       "--------------------------------------------------------------------------------\n",
       "const            4.5940      0.295     15.557      0.000       4.015       5.173\n",
       "overallqual      0.0322      0.002     13.433      0.000       0.028       0.037\n",
       "garagecars       0.0253      0.004      5.807      0.000       0.017       0.034\n",
       "totrmsabvgrd     0.0061      0.002      2.773      0.006       0.002       0.010\n",
       "fireplaces       0.0296      0.004      8.362      0.000       0.023       0.037\n",
       "foundation      -0.0082      0.003     -2.444      0.015      -0.015      -0.002\n",
       "heatingqc       -0.0094      0.003     -3.751      0.000      -0.014      -0.004\n",
       "bsmtfintype1    -0.0031      0.001     -2.284      0.023      -0.006      -0.000\n",
       "grlivarea     5.991e-05   8.22e-06      7.291      0.000    4.38e-05     7.6e-05\n",
       "totalbsmtsf   2.191e-05   8.74e-06      2.506      0.012    4.76e-06    3.91e-05\n",
       "firstflrsf    2.916e-05      1e-05      2.911      0.004    9.51e-06    4.88e-05\n",
       "yearbuilt        0.0006      0.000      5.557      0.000       0.000       0.001\n",
       "yearremodadd     0.0008      0.000      6.096      0.000       0.001       0.001\n",
       "garageyrblt    1.83e-05   5.55e-06      3.298      0.001    7.41e-06    2.92e-05\n",
       "==============================================================================\n",
       "Omnibus:                      724.423   Durbin-Watson:                   2.120\n",
       "Prob(Omnibus):                  0.000   Jarque-Bera (JB):            21954.215\n",
       "Skew:                          -2.343   Prob(JB):                         0.00\n",
       "Kurtosis:                      23.716   Cond. No.                     6.15e+05\n",
       "==============================================================================\n",
       "\n",
       "Warnings:\n",
       "[1] Standard Errors assume that the covariance matrix of the errors is correctly specified.\n",
       "[2] The condition number is large, 6.15e+05. This might indicate that there are\n",
       "strong multicollinearity or other numerical problems.\n",
       "\"\"\""
      ]
     },
     "execution_count": 18,
     "metadata": {},
     "output_type": "execute_result"
    }
   ],
   "source": [
    "X_train = sm.add_constant(X_train)\n",
    "\n",
    "results = sm.OLS(Y_train, X_train).fit()\n",
    "results.summary()"
   ]
  },
  {
   "cell_type": "code",
   "execution_count": 22,
   "metadata": {},
   "outputs": [
    {
     "data": {
      "image/png": "[encoded data removed]",
      "text/plain": [
       "<Figure size 432x288 with 1 Axes>"
      ]
     },
     "metadata": {
      "needs_background": "light"
     },
     "output_type": "display_data"
    },
    {
     "name": "stdout",
     "output_type": "stream",
     "text": [
      "Mean absolute error of the prediction is: 0.04301854507421595\n",
      "Mean squared error of the prediction is: 0.003684904615540441\n",
      "Root mean squared error of the prediction is: 0.06070341518844258\n",
      "Mean absolute percentage error of the prediction is: 0.5517609416040635\n"
     ]
    }
   ],
   "source": [
    "X_test = sm.add_constant(X_test)\n",
    "\n",
    "Y_preds = results.predict(X_test)\n",
    "\n",
    "plt.scatter(Y_test, Y_preds)\n",
    "plt.plot(Y_test, Y_test, color=\"red\")\n",
    "plt.xlabel(\"true values\")\n",
    "plt.ylabel(\"predicted values\")\n",
    "plt.title(\"Charges: true and predicted values\")\n",
    "plt.show()\n",
    "\n",
    "print(\"Mean absolute error of the prediction is: {}\".format(mean_absolute_error(Y_test, Y_preds)))\n",
    "print(\"Mean squared error of the prediction is: {}\".format(mse(Y_test, Y_preds)))\n",
    "print(\"Root mean squared error of the prediction is: {}\".format(rmse(Y_test, Y_preds)))\n",
    "print(\"Mean absolute percentage error of the prediction is: {}\".format(np.mean(np.abs((Y_test - Y_preds) / Y_test)) * 100))"
   ]
  },
  {
   "cell_type": "markdown",
   "metadata": {},
   "source": [
    "The model did a very good job of predicting the test data. All error metrics are very close to 0. The model appears to mis-predict the lower values in the dataset."
   ]
  },
  {
   "cell_type": "markdown",
   "metadata": {},
   "source": [
    "# I will evaluate the performance of the model without removing the insignificant features"
   ]
  },
  {
   "cell_type": "code",
   "execution_count": 28,
   "metadata": {},
   "outputs": [],
   "source": [
    "#Create series of top 10 categorical variables\n",
    "features = aov_res['var'][:10]\n",
    "\n",
    "#Append series of continuous variables with greater than 0.5 correlation and remove saleprice vars and secondflrsf\n",
    "cont_features = list(cont_corrs.loc[cont_corrs['boxcox_saleprice']>0.5, 'boxcox_saleprice'].index)\n",
    "for var in ['boxcox_saleprice', 'saleprice']: cont_features.remove(var) \n",
    "    \n",
    "features = features.append(pd.Series(cont_features), ignore_index=True)"
   ]
  },
  {
   "cell_type": "code",
   "execution_count": 29,
   "metadata": {},
   "outputs": [],
   "source": [
    "#Sort data into dependent and independent variables\n",
    "Y = coded_df['boxcox_saleprice']\n",
    "X = coded_df[features]\n",
    "\n",
    "#Split the data into train/test sets\n",
    "X_train, X_test, Y_train, Y_test = train_test_split(X,Y,test_size = 0.2, random_state = 1)"
   ]
  },
  {
   "cell_type": "code",
   "execution_count": 30,
   "metadata": {},
   "outputs": [
    {
     "data": {
      "text/html": [
       "<table class=\"simpletable\">\n",
       "<caption>OLS Regression Results</caption>\n",
       "<tr>\n",
       "  <th>Dep. Variable:</th>    <td>boxcox_saleprice</td> <th>  R-squared:         </th> <td>   0.825</td>\n",
       "</tr>\n",
       "<tr>\n",
       "  <th>Model:</th>                   <td>OLS</td>       <th>  Adj. R-squared:    </th> <td>   0.822</td>\n",
       "</tr>\n",
       "<tr>\n",
       "  <th>Method:</th>             <td>Least Squares</td>  <th>  F-statistic:       </th> <td>   318.6</td>\n",
       "</tr>\n",
       "<tr>\n",
       "  <th>Date:</th>             <td>Fri, 16 Aug 2019</td> <th>  Prob (F-statistic):</th>  <td>  0.00</td> \n",
       "</tr>\n",
       "<tr>\n",
       "  <th>Time:</th>                 <td>11:37:45</td>     <th>  Log-Likelihood:    </th> <td>  1520.5</td>\n",
       "</tr>\n",
       "<tr>\n",
       "  <th>No. Observations:</th>      <td>  1168</td>      <th>  AIC:               </th> <td>  -3005.</td>\n",
       "</tr>\n",
       "<tr>\n",
       "  <th>Df Residuals:</th>          <td>  1150</td>      <th>  BIC:               </th> <td>  -2914.</td>\n",
       "</tr>\n",
       "<tr>\n",
       "  <th>Df Model:</th>              <td>    17</td>      <th>                     </th>     <td> </td>   \n",
       "</tr>\n",
       "<tr>\n",
       "  <th>Covariance Type:</th>      <td>nonrobust</td>    <th>                     </th>     <td> </td>   \n",
       "</tr>\n",
       "</table>\n",
       "<table class=\"simpletable\">\n",
       "<tr>\n",
       "        <td></td>          <th>coef</th>     <th>std err</th>      <th>t</th>      <th>P>|t|</th>  <th>[0.025</th>    <th>0.975]</th>  \n",
       "</tr>\n",
       "<tr>\n",
       "  <th>const</th>        <td>    4.6565</td> <td>    0.310</td> <td>   15.001</td> <td> 0.000</td> <td>    4.047</td> <td>    5.266</td>\n",
       "</tr>\n",
       "<tr>\n",
       "  <th>overallqual</th>  <td>    0.0319</td> <td>    0.002</td> <td>   13.132</td> <td> 0.000</td> <td>    0.027</td> <td>    0.037</td>\n",
       "</tr>\n",
       "<tr>\n",
       "  <th>garagecars</th>   <td>    0.0198</td> <td>    0.006</td> <td>    3.071</td> <td> 0.002</td> <td>    0.007</td> <td>    0.033</td>\n",
       "</tr>\n",
       "<tr>\n",
       "  <th>fullbath</th>     <td>    0.0023</td> <td>    0.005</td> <td>    0.421</td> <td> 0.674</td> <td>   -0.008</td> <td>    0.013</td>\n",
       "</tr>\n",
       "<tr>\n",
       "  <th>totrmsabvgrd</th> <td>    0.0062</td> <td>    0.002</td> <td>    2.803</td> <td> 0.005</td> <td>    0.002</td> <td>    0.011</td>\n",
       "</tr>\n",
       "<tr>\n",
       "  <th>fireplaces</th>   <td>    0.0283</td> <td>    0.005</td> <td>    5.951</td> <td> 0.000</td> <td>    0.019</td> <td>    0.038</td>\n",
       "</tr>\n",
       "<tr>\n",
       "  <th>foundation</th>   <td>   -0.0083</td> <td>    0.003</td> <td>   -2.470</td> <td> 0.014</td> <td>   -0.015</td> <td>   -0.002</td>\n",
       "</tr>\n",
       "<tr>\n",
       "  <th>heatingqc</th>    <td>   -0.0092</td> <td>    0.003</td> <td>   -3.629</td> <td> 0.000</td> <td>   -0.014</td> <td>   -0.004</td>\n",
       "</tr>\n",
       "<tr>\n",
       "  <th>fireplacequ</th>  <td>    0.0016</td> <td>    0.003</td> <td>    0.614</td> <td> 0.540</td> <td>   -0.004</td> <td>    0.007</td>\n",
       "</tr>\n",
       "<tr>\n",
       "  <th>bsmtfintype1</th> <td>   -0.0031</td> <td>    0.001</td> <td>   -2.273</td> <td> 0.023</td> <td>   -0.006</td> <td>   -0.000</td>\n",
       "</tr>\n",
       "<tr>\n",
       "  <th>exterqual</th>    <td>   -0.0019</td> <td>    0.004</td> <td>   -0.460</td> <td> 0.646</td> <td>   -0.010</td> <td>    0.006</td>\n",
       "</tr>\n",
       "<tr>\n",
       "  <th>grlivarea</th>    <td> 5.795e-05</td> <td> 8.66e-06</td> <td>    6.691</td> <td> 0.000</td> <td>  4.1e-05</td> <td> 7.49e-05</td>\n",
       "</tr>\n",
       "<tr>\n",
       "  <th>garagearea</th>   <td> 2.294e-05</td> <td> 2.08e-05</td> <td>    1.102</td> <td> 0.271</td> <td>-1.79e-05</td> <td> 6.38e-05</td>\n",
       "</tr>\n",
       "<tr>\n",
       "  <th>totalbsmtsf</th>  <td> 2.133e-05</td> <td> 8.83e-06</td> <td>    2.416</td> <td> 0.016</td> <td> 4.01e-06</td> <td> 3.87e-05</td>\n",
       "</tr>\n",
       "<tr>\n",
       "  <th>firstflrsf</th>   <td> 2.843e-05</td> <td> 1.01e-05</td> <td>    2.827</td> <td> 0.005</td> <td>  8.7e-06</td> <td> 4.82e-05</td>\n",
       "</tr>\n",
       "<tr>\n",
       "  <th>yearbuilt</th>    <td>    0.0006</td> <td>    0.000</td> <td>    5.108</td> <td> 0.000</td> <td>    0.000</td> <td>    0.001</td>\n",
       "</tr>\n",
       "<tr>\n",
       "  <th>yearremodadd</th> <td>    0.0008</td> <td>    0.000</td> <td>    5.960</td> <td> 0.000</td> <td>    0.001</td> <td>    0.001</td>\n",
       "</tr>\n",
       "<tr>\n",
       "  <th>garageyrblt</th>  <td> 1.771e-05</td> <td> 5.65e-06</td> <td>    3.133</td> <td> 0.002</td> <td> 6.62e-06</td> <td> 2.88e-05</td>\n",
       "</tr>\n",
       "</table>\n",
       "<table class=\"simpletable\">\n",
       "<tr>\n",
       "  <th>Omnibus:</th>       <td>728.081</td> <th>  Durbin-Watson:     </th> <td>   2.121</td> \n",
       "</tr>\n",
       "<tr>\n",
       "  <th>Prob(Omnibus):</th> <td> 0.000</td>  <th>  Jarque-Bera (JB):  </th> <td>22410.769</td>\n",
       "</tr>\n",
       "<tr>\n",
       "  <th>Skew:</th>          <td>-2.356</td>  <th>  Prob(JB):          </th> <td>    0.00</td> \n",
       "</tr>\n",
       "<tr>\n",
       "  <th>Kurtosis:</th>      <td>23.936</td>  <th>  Cond. No.          </th> <td>6.51e+05</td> \n",
       "</tr>\n",
       "</table><br/><br/>Warnings:<br/>[1] Standard Errors assume that the covariance matrix of the errors is correctly specified.<br/>[2] The condition number is large, 6.51e+05. This might indicate that there are<br/>strong multicollinearity or other numerical problems."
      ],
      "text/plain": [
       "<class 'statsmodels.iolib.summary.Summary'>\n",
       "\"\"\"\n",
       "                            OLS Regression Results                            \n",
       "==============================================================================\n",
       "Dep. Variable:       boxcox_saleprice   R-squared:                       0.825\n",
       "Model:                            OLS   Adj. R-squared:                  0.822\n",
       "Method:                 Least Squares   F-statistic:                     318.6\n",
       "Date:                Fri, 16 Aug 2019   Prob (F-statistic):               0.00\n",
       "Time:                        11:37:45   Log-Likelihood:                 1520.5\n",
       "No. Observations:                1168   AIC:                            -3005.\n",
       "Df Residuals:                    1150   BIC:                            -2914.\n",
       "Df Model:                          17                                         \n",
       "Covariance Type:            nonrobust                                         \n",
       "================================================================================\n",
       "                   coef    std err          t      P>|t|      [0.025      0.975]\n",
       "--------------------------------------------------------------------------------\n",
       "const            4.6565      0.310     15.001      0.000       4.047       5.266\n",
       "overallqual      0.0319      0.002     13.132      0.000       0.027       0.037\n",
       "garagecars       0.0198      0.006      3.071      0.002       0.007       0.033\n",
       "fullbath         0.0023      0.005      0.421      0.674      -0.008       0.013\n",
       "totrmsabvgrd     0.0062      0.002      2.803      0.005       0.002       0.011\n",
       "fireplaces       0.0283      0.005      5.951      0.000       0.019       0.038\n",
       "foundation      -0.0083      0.003     -2.470      0.014      -0.015      -0.002\n",
       "heatingqc       -0.0092      0.003     -3.629      0.000      -0.014      -0.004\n",
       "fireplacequ      0.0016      0.003      0.614      0.540      -0.004       0.007\n",
       "bsmtfintype1    -0.0031      0.001     -2.273      0.023      -0.006      -0.000\n",
       "exterqual       -0.0019      0.004     -0.460      0.646      -0.010       0.006\n",
       "grlivarea     5.795e-05   8.66e-06      6.691      0.000     4.1e-05    7.49e-05\n",
       "garagearea    2.294e-05   2.08e-05      1.102      0.271   -1.79e-05    6.38e-05\n",
       "totalbsmtsf   2.133e-05   8.83e-06      2.416      0.016    4.01e-06    3.87e-05\n",
       "firstflrsf    2.843e-05   1.01e-05      2.827      0.005     8.7e-06    4.82e-05\n",
       "yearbuilt        0.0006      0.000      5.108      0.000       0.000       0.001\n",
       "yearremodadd     0.0008      0.000      5.960      0.000       0.001       0.001\n",
       "garageyrblt   1.771e-05   5.65e-06      3.133      0.002    6.62e-06    2.88e-05\n",
       "==============================================================================\n",
       "Omnibus:                      728.081   Durbin-Watson:                   2.121\n",
       "Prob(Omnibus):                  0.000   Jarque-Bera (JB):            22410.769\n",
       "Skew:                          -2.356   Prob(JB):                         0.00\n",
       "Kurtosis:                      23.936   Cond. No.                     6.51e+05\n",
       "==============================================================================\n",
       "\n",
       "Warnings:\n",
       "[1] Standard Errors assume that the covariance matrix of the errors is correctly specified.\n",
       "[2] The condition number is large, 6.51e+05. This might indicate that there are\n",
       "strong multicollinearity or other numerical problems.\n",
       "\"\"\""
      ]
     },
     "execution_count": 30,
     "metadata": {},
     "output_type": "execute_result"
    }
   ],
   "source": [
    "X_train = sm.add_constant(X_train)\n",
    "\n",
    "results = sm.OLS(Y_train, X_train).fit()\n",
    "results.summary()"
   ]
  },
  {
   "cell_type": "code",
   "execution_count": 31,
   "metadata": {},
   "outputs": [
    {
     "data": {
      "image/png": "[encoded data removed]",
      "text/plain": [
       "<Figure size 432x288 with 1 Axes>"
      ]
     },
     "metadata": {
      "needs_background": "light"
     },
     "output_type": "display_data"
    },
    {
     "name": "stdout",
     "output_type": "stream",
     "text": [
      "Mean absolute error of the prediction is: 0.042859030984940455\n",
      "Mean squared error of the prediction is: 0.0036687360576642884\n",
      "Root mean squared error of the prediction is: 0.060570092105463144\n",
      "Mean absolute percentage error of the prediction is: 0.5496452050386629\n"
     ]
    }
   ],
   "source": [
    "X_test = sm.add_constant(X_test)\n",
    "\n",
    "Y_preds = results.predict(X_test)\n",
    "\n",
    "plt.scatter(Y_test, Y_preds)\n",
    "plt.plot(Y_test, Y_test, color=\"red\")\n",
    "plt.xlabel(\"true values\")\n",
    "plt.ylabel(\"predicted values\")\n",
    "plt.title(\"Charges: true and predicted values\")\n",
    "plt.show()\n",
    "\n",
    "print(\"Mean absolute error of the prediction is: {}\".format(mean_absolute_error(Y_test, Y_preds)))\n",
    "print(\"Mean squared error of the prediction is: {}\".format(mse(Y_test, Y_preds)))\n",
    "print(\"Root mean squared error of the prediction is: {}\".format(rmse(Y_test, Y_preds)))\n",
    "print(\"Mean absolute percentage error of the prediction is: {}\".format(np.mean(np.abs((Y_test - Y_preds) / Y_test)) * 100))"
   ]
  },
  {
   "cell_type": "markdown",
   "metadata": {},
   "source": [
    "The model actually perormed slightly better with the additional, insignificant features. "
   ]
  }
 ],
 "metadata": {
  "kernelspec": {
   "display_name": "Python 3",
   "language": "python",
   "name": "python3"
  },
  "language_info": {
   "codemirror_mode": {
    "name": "ipython",
    "version": 3
   },
   "file_extension": ".py",
   "mimetype": "text/x-python",
   "name": "python",
   "nbconvert_exporter": "python",
   "pygments_lexer": "ipython3",
   "version": "3.6.8"
  }
 },
 "nbformat": 4,
 "nbformat_minor": 2
}
