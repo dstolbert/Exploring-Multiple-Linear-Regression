{
 "cells": [
  {
   "cell_type": "code",
   "execution_count": 40,
   "metadata": {},
   "outputs": [],
   "source": [
    "import numpy as np\n",
    "import pandas as pd\n",
    "import matplotlib.pyplot as plt\n",
    "from sqlalchemy import create_engine\n",
    "import statsmodels.api as sm \n",
    "from scipy import stats\n",
    "from sklearn.model_selection import train_test_split\n",
    "from sklearn.metrics import mean_absolute_error\n",
    "from statsmodels.tools.eval_measures import mse, rmse\n",
    "from sklearn.linear_model import LinearRegression, LassoCV, RidgeCV, ElasticNetCV\n",
    "%matplotlib inline"
   ]
  },
  {
   "cell_type": "markdown",
   "metadata": {},
   "source": [
    "# Evaluating the House prices regression model"
   ]
  },
  {
   "cell_type": "code",
   "execution_count": 3,
   "metadata": {},
   "outputs": [],
   "source": [
    "postgres_user = 'dsbc_student'\n",
    "postgres_pw = '7*.8G9QH21'\n",
    "postgres_host = '142.93.121.174'\n",
    "postgres_port = '5432'\n",
    "postgres_db = 'houseprices'\n",
    "\n",
    "engine = create_engine('postgresql://{}:{}@{}:{}/{}'.format(\n",
    "    postgres_user, postgres_pw, postgres_host, postgres_port, postgres_db))\n",
    "prices_df = pd.read_sql_query('select * from houseprices',con=engine)\n",
    "\n",
    "engine.dispose()"
   ]
  },
  {
   "cell_type": "code",
   "execution_count": 4,
   "metadata": {},
   "outputs": [],
   "source": [
    "#Create series of continuous variable names, check that all continuous variables are numerical\n",
    "\n",
    "cont_vars = pd.Series(['saleprice', 'yrsold', 'miscval', 'poolarea','screenporch', 'threessnporch', 'enclosedporch',\n",
    "                             'wooddecksf', 'openporchsf','garagearea', 'garageyrblt', 'grlivarea', 'lowqualfinsf', 'firstflrsf', \n",
    "                             'secondflrsf','totalbsmtsf', 'bsmtunfsf', 'bsmtfinsf1', 'bsmtfinsf2', 'masvnrarea', \n",
    "                             'yearbuilt', 'yearremodadd','lotarea', 'lotfrontage'])\n",
    "\n",
    "#Create series of the categorical variable names\n",
    "\n",
    "cat_vars = []\n",
    "\n",
    "for var in prices_df.columns:\n",
    "    if cont_vars.str.contains(var).any() == False:\n",
    "        cat_vars.append(var)\n",
    "\n",
    "cat_vars = pd.Series(cat_vars)\n",
    "\n",
    "#Check that no variables are in both variable lists\n",
    "\n",
    "for var in prices_df.columns:\n",
    "    if cont_vars.str.contains(var).any() & cat_vars.str.contains(var).any():\n",
    "        print(var)"
   ]
  },
  {
   "cell_type": "code",
   "execution_count": 5,
   "metadata": {},
   "outputs": [],
   "source": [
    "#Convert categorical variables to numerically coded categories\n",
    "\n",
    "coded_df = prices_df.copy()\n",
    "coded_df.sort_values(by='saleprice')\n",
    "codebook = {}\n",
    "\n",
    "for var in cat_vars:\n",
    "    if  coded_df[var].dtype == 'O':\n",
    "        \n",
    "        #Create replace dict for each variable\n",
    "        labels = coded_df[var].unique()\n",
    "        replace_dict = {k: v for k,v in zip(labels,range(len(labels)))}\n",
    "        \n",
    "        #Add var entry to codebook and replace in dataframe\n",
    "        codebook.update({var: replace_dict})\n",
    "        coded_df.loc[:,var] = coded_df[var].replace(replace_dict) "
   ]
  },
  {
   "cell_type": "code",
   "execution_count": 6,
   "metadata": {},
   "outputs": [],
   "source": [
    "#Boxcox transform our dependent variable, add to list of cont_vars \n",
    "\n",
    "coded_df['boxcox_saleprice'] = stats.boxcox(coded_df['saleprice'])[0]\n",
    "cont_vars = list(cont_vars)\n",
    "cont_vars.insert(0,'boxcox_saleprice')"
   ]
  },
  {
   "cell_type": "code",
   "execution_count": 7,
   "metadata": {},
   "outputs": [],
   "source": [
    "#Sort variables by their relevance in the model\n",
    "\n",
    "#Loop through cat_vars and conduct One-Way Anova across the groups in each cat_var for boxcox_saleprice\n",
    "\n",
    "import statsmodels.api as sm\n",
    "from statsmodels.formula.api import ols\n",
    "F = []\n",
    "p = []\n",
    "\n",
    "for var in cat_vars:\n",
    "    mod_str = 'boxcox_saleprice ~ ' + var\n",
    "    mod = ols(mod_str, data=coded_df).fit()\n",
    "    aov_table= sm.stats.anova_lm(mod, typ=2)\n",
    "    F.append(aov_table['F'][0])\n",
    "    p.append(aov_table['PR(>F)'][0])\n",
    "    \n",
    "#Save results of anova in df with variable names\n",
    "\n",
    "aov_res = pd.DataFrame(cat_vars, columns=['var'])\n",
    "aov_res['F'] = F\n",
    "aov_res['p-value'] = p \n",
    "aov_res.sort_values(by='F', ascending=False, inplace=True)\n",
    "\n",
    "#Create correlation matrix, sort by saleprice\n",
    "cont_corrs = coded_df[cont_vars].corr()\n",
    "cont_corrs.sort_values(by='boxcox_saleprice',axis=0, ascending=False, inplace=True)"
   ]
  },
  {
   "cell_type": "code",
   "execution_count": 8,
   "metadata": {},
   "outputs": [],
   "source": [
    "#Create series of top 10 categorical variables\n",
    "features = aov_res['var'][:10]\n",
    "\n",
    "#Append series of continuous variables with greater than 0.5 correlation and remove saleprice vars and secondflrsf\n",
    "cont_features = list(cont_corrs.loc[cont_corrs['boxcox_saleprice']>0.5, 'boxcox_saleprice'].index)\n",
    "for var in ['boxcox_saleprice', 'saleprice']: cont_features.remove(var) \n",
    "    \n",
    "features = features.append(pd.Series(cont_features), ignore_index=True)"
   ]
  },
  {
   "cell_type": "code",
   "execution_count": 9,
   "metadata": {},
   "outputs": [],
   "source": [
    "coded_df.loc[:,features] = coded_df.loc[:,features].fillna(0)"
   ]
  },
  {
   "cell_type": "markdown",
   "metadata": {},
   "source": [
    "# OLS Regression"
   ]
  },
  {
   "cell_type": "code",
   "execution_count": 44,
   "metadata": {
    "scrolled": false
   },
   "outputs": [
    {
     "name": "stdout",
     "output_type": "stream",
     "text": [
      "R-squared of the model in training set is: 0.8303756979176486\n",
      "-----Test set statistics-----\n",
      "R-squared of the model in test set is: 0.8371229477521631\n",
      "Mean absolute error of the prediction is: 0.04545957195088056\n",
      "Mean squared error of the prediction is: 0.004098903185340866\n",
      "Root mean squared error of the prediction is: 0.0640226771178843\n",
      "Mean absolute percentage error of the prediction is: 0.5836240732110317\n"
     ]
    }
   ],
   "source": [
    "#Sort data into dependent and independent variables\n",
    "Y = coded_df['boxcox_saleprice']\n",
    "X = coded_df[features]\n",
    "\n",
    "X_train, X_test, y_train, y_test = train_test_split(X,Y,test_size=0.2, random_state=2)\n",
    "\n",
    "lrm = LinearRegression(fit_intercept=True)\n",
    "\n",
    "lrm.fit(X_train, y_train)\n",
    "\n",
    "# We are making predictions here\n",
    "y_preds_train = lrm.predict(X_train)\n",
    "y_preds_test = lrm.predict(X_test)\n",
    "\n",
    "print(\"R-squared of the model in training set is: {}\".format(lrm.score(X_train, y_train)))\n",
    "print(\"-----Test set statistics-----\")\n",
    "print(\"R-squared of the model in test set is: {}\".format(lrm.score(X_test, y_test)))\n",
    "print(\"Mean absolute error of the prediction is: {}\".format(mean_absolute_error(y_test, y_preds_test)))\n",
    "print(\"Mean squared error of the prediction is: {}\".format(mse(y_test, y_preds_test)))\n",
    "print(\"Root mean squared error of the prediction is: {}\".format(rmse(y_test, y_preds_test)))\n",
    "print(\"Mean absolute percentage error of the prediction is: {}\".format(np.mean(np.abs((y_test - y_preds_test) / y_test)) * 100))"
   ]
  },
  {
   "cell_type": "markdown",
   "metadata": {},
   "source": [
    "# Lasso Regression"
   ]
  },
  {
   "cell_type": "code",
   "execution_count": 42,
   "metadata": {},
   "outputs": [],
   "source": [
    "alphas = [np.power(10.0,p) for p in np.arange(-10,40)]"
   ]
  },
  {
   "cell_type": "code",
   "execution_count": 46,
   "metadata": {},
   "outputs": [
    {
     "name": "stdout",
     "output_type": "stream",
     "text": [
      "Best alpha value is: 0.0001\n",
      "R-squared of the model in training set is: 0.8303603333789558\n",
      "-----Test set statistics-----\n",
      "R-squared of the model in test set is: 0.8375590691988901\n",
      "Mean absolute error of the prediction is: 0.04533147983005963\n",
      "Mean squared error of the prediction is: 0.004087927915574413\n",
      "Root mean squared error of the prediction is: 0.06393690573975576\n",
      "Mean absolute percentage error of the prediction is: 0.5820098384416624\n"
     ]
    }
   ],
   "source": [
    "lasso_cv = LassoCV(alphas=alphas, cv=5)\n",
    "\n",
    "lasso_cv.fit(X_train, y_train)\n",
    "\n",
    "y_preds_train = lasso_cv.predict(X_train)\n",
    "y_preds_test = lasso_cv.predict(X_test)\n",
    "\n",
    "print(\"Best alpha value is: {}\".format(lasso_cv.alpha_))\n",
    "print(\"R-squared of the model in training set is: {}\".format(lasso_cv.score(X_train, y_train)))\n",
    "print(\"-----Test set statistics-----\")\n",
    "print(\"R-squared of the model in test set is: {}\".format(lasso_cv.score(X_test, y_test)))\n",
    "print(\"Mean absolute error of the prediction is: {}\".format(mean_absolute_error(y_test, y_preds_test)))\n",
    "print(\"Mean squared error of the prediction is: {}\".format(mse(y_test, y_preds_test)))\n",
    "print(\"Root mean squared error of the prediction is: {}\".format(rmse(y_test, y_preds_test)))\n",
    "print(\"Mean absolute percentage error of the prediction is: {}\".format(np.mean(np.abs((y_test - y_preds_test) / y_test)) * 100))"
   ]
  },
  {
   "cell_type": "markdown",
   "metadata": {},
   "source": [
    "# Ridge Regression"
   ]
  },
  {
   "cell_type": "code",
   "execution_count": 45,
   "metadata": {},
   "outputs": [
    {
     "name": "stdout",
     "output_type": "stream",
     "text": [
      "Best alpha value is: 10.0\n",
      "R-squared of the model in training set is: 0.8303487184245927\n",
      "-----Test set statistics-----\n",
      "R-squared of the model in test set is: 0.8376743317480655\n",
      "Mean absolute error of the prediction is: 0.04526694299771495\n",
      "Mean squared error of the prediction is: 0.004085027261225347\n",
      "Root mean squared error of the prediction is: 0.06391421798962534\n",
      "Mean absolute percentage error of the prediction is: 0.5811784156793333\n"
     ]
    },
    {
     "name": "stderr",
     "output_type": "stream",
     "text": [
      "/home/derek/.local/lib/python3.6/site-packages/sklearn/model_selection/_search.py:814: DeprecationWarning: The default of the `iid` parameter will change from True to False in version 0.22 and will be removed in 0.24. This will change numeric results when test-set sizes are unequal.\n",
      "  DeprecationWarning)\n"
     ]
    }
   ],
   "source": [
    "ridge_cv = RidgeCV(alphas=alphas, cv=5)\n",
    "\n",
    "ridge_cv.fit(X_train, y_train)\n",
    "\n",
    "y_preds_train = ridge_cv.predict(X_train)\n",
    "y_preds_test = ridge_cv.predict(X_test)\n",
    "\n",
    "print(\"Best alpha value is: {}\".format(ridge_cv.alpha_))\n",
    "print(\"R-squared of the model in training set is: {}\".format(ridge_cv.score(X_train, y_train)))\n",
    "print(\"-----Test set statistics-----\")\n",
    "print(\"R-squared of the model in test set is: {}\".format(ridge_cv.score(X_test, y_test)))\n",
    "print(\"Mean absolute error of the prediction is: {}\".format(mean_absolute_error(y_test, y_preds_test)))\n",
    "print(\"Mean squared error of the prediction is: {}\".format(mse(y_test, y_preds_test)))\n",
    "print(\"Root mean squared error of the prediction is: {}\".format(rmse(y_test, y_preds_test)))\n",
    "print(\"Mean absolute percentage error of the prediction is: {}\".format(np.mean(np.abs((y_test - y_preds_test) / y_test)) * 100))"
   ]
  },
  {
   "cell_type": "markdown",
   "metadata": {},
   "source": [
    "# ElasticNet Regression"
   ]
  },
  {
   "cell_type": "code",
   "execution_count": 47,
   "metadata": {},
   "outputs": [
    {
     "name": "stdout",
     "output_type": "stream",
     "text": [
      "Best alpha value is: 0.0001\n",
      "R-squared of the model in training set is: 0.8303715402623383\n",
      "-----Test set statistics-----\n",
      "R-squared of the model in test set is: 0.8373589634736343\n",
      "Mean absolute error of the prediction is: 0.04539189354832565\n",
      "Mean squared error of the prediction is: 0.004092963701667888\n",
      "Root mean squared error of the prediction is: 0.06397627452163722\n",
      "Mean absolute percentage error of the prediction is: 0.5827709449067502\n"
     ]
    }
   ],
   "source": [
    "\n",
    "elasticnet_cv = ElasticNetCV(alphas=alphas, cv=5)\n",
    "\n",
    "elasticnet_cv.fit(X_train, y_train)\n",
    "\n",
    "# We are making predictions here\n",
    "y_preds_train = elasticnet_cv.predict(X_train)\n",
    "y_preds_test = elasticnet_cv.predict(X_test)\n",
    "\n",
    "print(\"Best alpha value is: {}\".format(elasticnet_cv.alpha_))\n",
    "print(\"R-squared of the model in training set is: {}\".format(elasticnet_cv.score(X_train, y_train)))\n",
    "print(\"-----Test set statistics-----\")\n",
    "print(\"R-squared of the model in test set is: {}\".format(elasticnet_cv.score(X_test, y_test)))\n",
    "print(\"Mean absolute error of the prediction is: {}\".format(mean_absolute_error(y_test, y_preds_test)))\n",
    "print(\"Mean squared error of the prediction is: {}\".format(mse(y_test, y_preds_test)))\n",
    "print(\"Root mean squared error of the prediction is: {}\".format(rmse(y_test, y_preds_test)))\n",
    "print(\"Mean absolute percentage error of the prediction is: {}\".format(np.mean(np.abs((y_test - y_preds_test) / y_test)) * 100))"
   ]
  },
  {
   "cell_type": "markdown",
   "metadata": {},
   "source": [
    "# Summary"
   ]
  },
  {
   "cell_type": "markdown",
   "metadata": {},
   "source": [
    "The models all performed very similarly. The best performance came from the Ridge Regression model where Mean absolute percentage error was 0.001% lower. All other metrics were nearly indistinguishable from one another. "
   ]
  }
 ],
 "metadata": {
  "kernelspec": {
   "display_name": "Python 3",
   "language": "python",
   "name": "python3"
  },
  "language_info": {
   "codemirror_mode": {
    "name": "ipython",
    "version": 3
   },
   "file_extension": ".py",
   "mimetype": "text/x-python",
   "name": "python",
   "nbconvert_exporter": "python",
   "pygments_lexer": "ipython3",
   "version": "3.6.8"
  }
 },
 "nbformat": 4,
 "nbformat_minor": 2
}
